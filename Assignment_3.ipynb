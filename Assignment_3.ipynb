{
 "cells": [
  {
   "cell_type": "raw",
   "id": "3ec76c2d-e168-4a4f-961e-a86d7d8e4159",
   "metadata": {},
   "source": [
    "Question 1"
   ]
  },
  {
   "cell_type": "code",
   "execution_count": null,
   "id": "4f8e3e96-622c-45e1-9dd0-1a396f52310c",
   "metadata": {},
   "outputs": [
    {
     "name": "stdin",
     "output_type": "stream",
     "text": [
      "What would you like? \n",
      "        1-espresso \n",
      "        2-latte \n",
      "        3-cappuccino\n",
      "        4- report\n",
      "        5- Exit \n",
      "         3\n",
      "How many quarters?  10\n",
      "How many dimes?  10\n",
      "How many nickels?  10\n",
      "How many pennies?  10\n"
     ]
    },
    {
     "name": "stdout",
     "output_type": "stream",
     "text": [
      "total 4.1\n",
      "remaaining balance is  1.0999999999999996\n",
      "here is cappuccino ! Enjoy\n"
     ]
    }
   ],
   "source": [
    "\n",
    "MENU = {\n",
    "    \"espresso\": {\"ingredients\": {\"water\": 50, \"coffee\": 18}, \"cost\": 1.5},\n",
    "    \"latte\": {\"ingredients\": {\"water\": 200, \"milk\": 150, \"coffee\": 24}, \"cost\": 2.5},\n",
    "    \"cappuccino\": {\"ingredients\": {\"water\": 250, \"milk\": 100, \"coffee\": 24}, \"cost\": 3.0},\n",
    "}\n",
    "\n",
    "resources = {\n",
    "    \"water\": 300,\n",
    "    \"milk\": 200,\n",
    "    \"coffee\": 100,\n",
    "    \"money\": 300.0,\n",
    "}\n",
    "\"\"\"Main function to run the coffee machine.\"\"\"\n",
    "while True:\n",
    "    choice = input('''What would you like? \n",
    "        1-espresso \n",
    "        2-latte \n",
    "        3-cappuccino\n",
    "        4- report\n",
    "        5- Exit \n",
    "        ''')\n",
    "    if choice == \"5\":\n",
    "        print(\"Turning off the coffee machine. Goodbye!\")\n",
    "        break\n",
    "    elif choice == \"4\":\n",
    "            print(\"Water:\", {resources['water']},\"ml\")\n",
    "            print(\"Milk:\" ,{resources['milk']},\"ml\")\n",
    "            print(\"Coffee:\", {resources['coffee']},\"g\")\n",
    "            print(\"Money:\", {resources['money']})\n",
    "    elif choice == \"1\":\n",
    "            # check resources\n",
    "            water_amount=MENU[\"espresso\"][\"ingredients\"][\"water\"]\n",
    "            coffee_amount=MENU[\"espresso\"][\"ingredients\"][\"coffee\"]  \n",
    "            if resources['water'] < water_amount:\n",
    "                print(\"Sorry, there is not enough water\")\n",
    "            elif resources['coffee'] < coffee_amount:\n",
    "                print(\"Sorry, there is not enough coffee\")\n",
    "            else:\n",
    "                total = 0.0\n",
    "                total += int(input(\"How many quarters? \")) * 0.25\n",
    "                total += int(input(\"How many dimes? \")) * 0.10\n",
    "                total += int(input(\"How many nickels? \")) * 0.05\n",
    "                total += int(input(\"How many pennies? \")) * 0.01\n",
    "                print(\"total\",total)\n",
    "                if total >= MENU[\"espresso\"][\"cost\"]:\n",
    "                    change = (total - MENU[\"espresso\"][\"cost\"])\n",
    "                    if change > 0:\n",
    "                        print(\"remaaining balance is \",change)\n",
    "                        resources[\"water\"] -= water_amount\n",
    "                        resources[\"water\"] -= coffee_amount\n",
    "                        resources[\"money\"] += MENU[\"espresso\"][\"cost\"]\n",
    "                        print(\"here is espresso ! Enjoy\")\n",
    "                    else:\n",
    "                        print(\"Sorry, that's not enough money. Money refunded.\")\n",
    "    elif choice == '2':\n",
    "             # check resources\n",
    "            water_amount=MENU[\"latte\"][\"ingredients\"][\"water\"]\n",
    "            coffee_amount=MENU[\"latte\"][\"ingredients\"][\"coffee\"] \n",
    "            milk_amount=MENU[\"latte\"][\"ingredients\"][\"milk\"] \n",
    "            if resources['water'] < water_amount:\n",
    "                print(\"Sorry, there is not enough water\")\n",
    "            elif resources['coffee'] < coffee_amount:\n",
    "                print(\"Sorry, there is not enough coffee\")\n",
    "            elif resources['milk'] < milk_amount:\n",
    "                print(\"Sorry, there is not enough milk\")    \n",
    "            else:\n",
    "                total = 0.0\n",
    "                total += int(input(\"How many quarters? \")) * 0.25\n",
    "                total += int(input(\"How many dimes? \")) * 0.10\n",
    "                total += int(input(\"How many nickels? \")) * 0.05\n",
    "                total += int(input(\"How many pennies? \")) * 0.01\n",
    "                print(\"total\",total)\n",
    "                if total >= MENU[\"latte\"][\"cost\"]:\n",
    "                    change = (total - MENU[\"latte\"][\"cost\"])\n",
    "                    if change > 0:\n",
    "                        print(\"remaaining balance is \",change)\n",
    "                        resources[\"water\"] -= water_amount\n",
    "                        resources[\"water\"] -= coffee_amount\n",
    "                        resources[\"milk\"] -= milk_amount\n",
    "                        resources[\"money\"] += MENU[\"latte\"][\"cost\"]\n",
    "                        print(\"here is latte ! Enjoy\")\n",
    "                    else:\n",
    "                        print(\"Sorry, that's not enough money. Money refunded.\")\n",
    "    elif choice == '3':\n",
    "             # check resources\n",
    "            water_amount=MENU[\"cappuccino\"][\"ingredients\"][\"water\"]\n",
    "            coffee_amount=MENU[\"cappuccino\"][\"ingredients\"][\"coffee\"] \n",
    "            milk_amount=MENU[\"cappuccino\"][\"ingredients\"][\"milk\"] \n",
    "            if resources['water'] < water_amount:\n",
    "                print(\"Sorry, there is not enough water\")\n",
    "            elif resources['coffee'] < coffee_amount:\n",
    "                print(\"Sorry, there is not enough coffee\")\n",
    "            elif resources['milk'] < milk_amount:\n",
    "                print(\"Sorry, there is not enough milk\")     \n",
    "            else:\n",
    "                total = 0.0\n",
    "                total += int(input(\"How many quarters? \")) * 0.25\n",
    "                total += int(input(\"How many dimes? \")) * 0.10\n",
    "                total += int(input(\"How many nickels? \")) * 0.05\n",
    "                total += int(input(\"How many pennies? \")) * 0.01\n",
    "                print(\"total\",total)\n",
    "                if total >= MENU[\"cappuccino\"][\"cost\"]:\n",
    "                    change = (total - MENU[\"cappuccino\"][\"cost\"])\n",
    "                    if change > 0:\n",
    "                        print(\"remaaining balance is \",change)\n",
    "                        resources[\"water\"] -= water_amount\n",
    "                        resources[\"water\"] -= coffee_amount\n",
    "                        resources[\"milk\"] -= milk_amount\n",
    "                        resources[\"money\"] += MENU[\"cappuccino\"][\"cost\"]\n",
    "                        print(\"here is cappuccino ! Enjoy\")\n",
    "                    else:\n",
    "                        print(\"Sorry, that's not enough money. Money refunded.\")\n",
    "            \n",
    "                        \n",
    "            \n",
    "                \n",
    "            \n",
    "            \n",
    "            \n",
    "      \n",
    "    else:\n",
    "            print(\"Invalid choice. Please choose espresso, latte, or cappuccino.\")\n",
    "\n"
   ]
  },
  {
   "cell_type": "code",
   "execution_count": null,
   "id": "f28af8b6-1f08-4dd6-b108-106a5ba08103",
   "metadata": {},
   "outputs": [],
   "source": [
    "Question 2"
   ]
  },
  {
   "cell_type": "code",
   "execution_count": 54,
   "id": "92f27d4f-0bf8-47b3-94e8-e498369cf715",
   "metadata": {},
   "outputs": [
    {
     "name": "stdout",
     "output_type": "stream",
     "text": [
      "Wlecome to ATM Machine\n",
      "1- Balance check\n",
      "    2- Deposite Money\n",
      "    3- Withdraw Money\n",
      "    4- Exit\n"
     ]
    },
    {
     "name": "stdin",
     "output_type": "stream",
     "text": [
      "Select Any option from your atm 2\n",
      "Enter Amount you want to deposite  1000\n"
     ]
    },
    {
     "name": "stdout",
     "output_type": "stream",
     "text": [
      "you deposieted  1000.0\n",
      "your Balance now is : 1000.0\n",
      "Wlecome to ATM Machine\n",
      "1- Balance check\n",
      "    2- Deposite Money\n",
      "    3- Withdraw Money\n",
      "    4- Exit\n"
     ]
    },
    {
     "name": "stdin",
     "output_type": "stream",
     "text": [
      "Select Any option from your atm 1\n"
     ]
    },
    {
     "name": "stdout",
     "output_type": "stream",
     "text": [
      "Your Balance is :  1000.0\n",
      "Wlecome to ATM Machine\n",
      "1- Balance check\n",
      "    2- Deposite Money\n",
      "    3- Withdraw Money\n",
      "    4- Exit\n"
     ]
    },
    {
     "name": "stdin",
     "output_type": "stream",
     "text": [
      "Select Any option from your atm 3\n",
      "Enter withdrawl amount  500\n"
     ]
    },
    {
     "name": "stdout",
     "output_type": "stream",
     "text": [
      "you Withdrawl amount is : 500.0\n",
      "your Balance now is : 500.0\n",
      "Wlecome to ATM Machine\n",
      "1- Balance check\n",
      "    2- Deposite Money\n",
      "    3- Withdraw Money\n",
      "    4- Exit\n"
     ]
    },
    {
     "name": "stdin",
     "output_type": "stream",
     "text": [
      "Select Any option from your atm 1\n"
     ]
    },
    {
     "name": "stdout",
     "output_type": "stream",
     "text": [
      "Your Balance is :  500.0\n",
      "Wlecome to ATM Machine\n",
      "1- Balance check\n",
      "    2- Deposite Money\n",
      "    3- Withdraw Money\n",
      "    4- Exit\n"
     ]
    },
    {
     "name": "stdin",
     "output_type": "stream",
     "text": [
      "Select Any option from your atm 4\n"
     ]
    },
    {
     "name": "stdout",
     "output_type": "stream",
     "text": [
      "you exited Atm machine\n"
     ]
    }
   ],
   "source": [
    "balance = 0.0\n",
    "while True:\n",
    "    print(\"Wlecome to ATM Machine\")\n",
    "    print('''1- Balance check\n",
    "    2- Deposite Money\n",
    "    3- Withdraw Money\n",
    "    4- Exit''')\n",
    "    choice = input(\"Select Any option from your atm\")\n",
    "    if choice == '4':\n",
    "        print(\"you exited Atm machine\")\n",
    "        break\n",
    "    elif choice == '1':\n",
    "        print(\"Your Balance is : \",balance)\n",
    "    elif choice == '2':\n",
    "        balance_amount = float(input(\"Enter Amount you want to deposite \"))\n",
    "        if balance_amount <= 0:\n",
    "            print(\"Please add a poistiive number\")\n",
    "        else:\n",
    "            balance +=balance_amount\n",
    "            print(\"you deposieted \",balance_amount)\n",
    "            print(\"your Balance now is :\",balance)\n",
    "    elif choice == '3':\n",
    "        withdrawl_amount = float(input(\"Enter withdrawl amount \"))\n",
    "        if withdrawl_amount <= 0:\n",
    "            print(\"Please Enter a positive Number\")\n",
    "        else:\n",
    "            balance -= withdrawl_amount\n",
    "            print(\"you Withdrawl amount is :\",withdrawl_amount)\n",
    "            print(\"your Balance now is :\",balance)\n",
    "else:\n",
    "    print(\"Invalid Option, Please choose valid Option\")"
   ]
  },
  {
   "cell_type": "code",
   "execution_count": null,
   "id": "1184a8bf-9d65-4d05-8be8-a256bf4c3674",
   "metadata": {},
   "outputs": [],
   "source": []
  }
 ],
 "metadata": {
  "kernelspec": {
   "display_name": "Python 3 (ipykernel)",
   "language": "python",
   "name": "python3"
  },
  "language_info": {
   "codemirror_mode": {
    "name": "ipython",
    "version": 3
   },
   "file_extension": ".py",
   "mimetype": "text/x-python",
   "name": "python",
   "nbconvert_exporter": "python",
   "pygments_lexer": "ipython3",
   "version": "3.13.0"
  }
 },
 "nbformat": 4,
 "nbformat_minor": 5
}
