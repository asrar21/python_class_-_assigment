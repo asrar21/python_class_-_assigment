{
 "cells": [
  {
   "cell_type": "code",
   "execution_count": null,
   "id": "167b8760-0d61-4883-a66f-ec4e81d2d581",
   "metadata": {},
   "outputs": [],
   "source": [
    "# 1. Write a Python program to print the numbers from 1 to 10 using a for loop."
   ]
  },
  {
   "cell_type": "code",
   "execution_count": 1,
   "id": "d037095f-2750-450e-8784-0325f2352008",
   "metadata": {},
   "outputs": [
    {
     "name": "stdout",
     "output_type": "stream",
     "text": [
      "numbers are 1\n",
      "numbers are 2\n",
      "numbers are 3\n",
      "numbers are 4\n",
      "numbers are 5\n",
      "numbers are 6\n",
      "numbers are 7\n",
      "numbers are 8\n",
      "numbers are 9\n",
      "numbers are 10\n"
     ]
    }
   ],
   "source": [
    "for i in range(1,11):\n",
    "    print(\"numbers are\",i)"
   ]
  },
  {
   "cell_type": "code",
   "execution_count": null,
   "id": "17dfd672-21ee-487b-89f3-07ce82ae7a19",
   "metadata": {},
   "outputs": [],
   "source": [
    "# 2. Create a list containing the numbers 1 to 5. Then, using a for loop, print each element of the list."
   ]
  },
  {
   "cell_type": "code",
   "execution_count": 3,
   "id": "153c35fb-1705-4139-9b0a-0e16f87aada4",
   "metadata": {},
   "outputs": [
    {
     "name": "stdout",
     "output_type": "stream",
     "text": [
      "number 1\n",
      "number 2\n",
      "number 3\n",
      "number 4\n",
      "number 5\n"
     ]
    }
   ],
   "source": [
    "num_list = [1,2,3,4,5]\n",
    "for num in num_list:\n",
    "    print(\"number\",num)"
   ]
  },
  {
   "cell_type": "code",
   "execution_count": null,
   "id": "0f338e4d-ff96-4ad8-a195-38fa1aba4a0f",
   "metadata": {},
   "outputs": [],
   "source": [
    "# 3. Write a program that takes a list of numbers and returns the sum of all the numbers in the list."
   ]
  },
  {
   "cell_type": "code",
   "execution_count": 5,
   "id": "20a62288-4650-47e7-abf4-e958f483642e",
   "metadata": {},
   "outputs": [
    {
     "name": "stdout",
     "output_type": "stream",
     "text": [
      "Sum is 28\n"
     ]
    }
   ],
   "source": [
    "num_list = [1,2,3,4,5,6,7]\n",
    "sum = 0\n",
    "for num in num_list:\n",
    "    sum =sum +num\n",
    "\n",
    "\n",
    "print(\"Sum is\",sum)\n",
    "    "
   ]
  },
  {
   "cell_type": "code",
   "execution_count": 6,
   "id": "fe7b9df4-23c5-464a-aa6b-39cc39a73225",
   "metadata": {},
   "outputs": [],
   "source": [
    "# 4. Given a list of strings, write a program to concatenate all the strings into one."
   ]
  },
  {
   "cell_type": "code",
   "execution_count": 8,
   "id": "f0778874-498f-41ce-a40b-63ac022557ae",
   "metadata": {},
   "outputs": [
    {
     "name": "stdout",
     "output_type": "stream",
     "text": [
      "full str is apple\n"
     ]
    }
   ],
   "source": [
    "str_list = [\"a\",\"p\",\"p\",\"l\",\"e\"]\n",
    "str1 = '';\n",
    "for str in str_list:\n",
    "    str1 =str1 + str\n",
    "\n",
    "\n",
    "print(\"full str is\",str1)"
   ]
  },
  {
   "cell_type": "code",
   "execution_count": null,
   "id": "f3a5703a-31ab-43a1-bb48-f4ebd3e2b71b",
   "metadata": {},
   "outputs": [],
   "source": [
    "# 5. Write a program that takes a list of numbers and returns the largest number in the list."
   ]
  },
  {
   "cell_type": "code",
   "execution_count": 9,
   "id": "c928bd98-3399-4374-8a16-16f5f0894c35",
   "metadata": {},
   "outputs": [
    {
     "name": "stdout",
     "output_type": "stream",
     "text": [
      "largestNumberReturn 99\n"
     ]
    }
   ],
   "source": [
    "def largestNumberReturn(list):\n",
    "    return max(list)\n",
    "\n",
    "print(\"largestNumberReturn\",largestNumberReturn([34,5,6,7,99]))    \n",
    "        "
   ]
  },
  {
   "cell_type": "code",
   "execution_count": null,
   "id": "d0050c51-617c-429d-8586-01f6b5d730fb",
   "metadata": {},
   "outputs": [],
   "source": [
    "# 6. Create a list containing the numbers 1 to 10. Using a for loop, square each number in the list and print the result."
   ]
  },
  {
   "cell_type": "code",
   "execution_count": 11,
   "id": "85a6b199-829b-4aad-bec5-1f8b41836dbf",
   "metadata": {},
   "outputs": [
    {
     "name": "stdout",
     "output_type": "stream",
     "text": [
      "numebrs 1\n",
      "numebrs 2\n",
      "numebrs 3\n",
      "numebrs 4\n",
      "numebrs 5\n",
      "numebrs 6\n",
      "numebrs 7\n",
      "numebrs 8\n",
      "numebrs 9\n",
      "numebrs 10\n"
     ]
    }
   ],
   "source": [
    "temp_list = [1,2,3,4,5,6,7,8,9,10]\n",
    "for num2 in temp_list:\n",
    "    print(\"numebrs\",num2)"
   ]
  },
  {
   "cell_type": "code",
   "execution_count": null,
   "id": "2a9b75e6-07e3-47bd-89e7-79fa38ad0d39",
   "metadata": {},
   "outputs": [],
   "source": [
    "# 7. Write a program that takes a list of numbers and returns a new list containing only the even numbers from the original list."
   ]
  },
  {
   "cell_type": "code",
   "execution_count": 18,
   "id": "ccd687fa-cb3b-4808-a0b7-8fc6d3e314b8",
   "metadata": {},
   "outputs": [
    {
     "name": "stdout",
     "output_type": "stream",
     "text": [
      "([2, 4, 6, 8, 10, 12], [1, 3, 5, 7, 9, 11])\n"
     ]
    }
   ],
   "source": [
    "original_list = [1,2,3,4,5,6,7,8,9,10,11,12]\n",
    "def evenOddList(list):\n",
    "    even_list = []\n",
    "    odd_list = []\n",
    "    for num3 in list:\n",
    "        if num3%2 == 0 :\n",
    "            even_list.append(num3)\n",
    "        else:\n",
    "            odd_list.append(num3)\n",
    "    return even_list,odd_list;\n",
    "    \n",
    "\n",
    "\n",
    "\n",
    "\n",
    "print(evenOddList(original_list))\n",
    "        "
   ]
  },
  {
   "cell_type": "code",
   "execution_count": null,
   "id": "42e3f7a1-f3a5-4a5f-8c55-30faf7df0fa5",
   "metadata": {},
   "outputs": [],
   "source": [
    "# 8. Given two lists of numbers, write a program to combine the lists element-wise (i.e., element-wise addition)."
   ]
  },
  {
   "cell_type": "code",
   "execution_count": 23,
   "id": "1b1d89fc-6785-4a4a-8b67-712380a46c7a",
   "metadata": {},
   "outputs": [
    {
     "name": "stdout",
     "output_type": "stream",
     "text": [
      "[2, 3, 4, 5, 6, 7, 3, 4, 5, 6, 7, 8, 4, 5, 6, 7, 8, 9, 5, 6, 7, 8, 9, 10, 6, 7, 8, 9, 10, 11, 7, 8, 9, 10, 11, 12]\n"
     ]
    }
   ],
   "source": [
    "def combineElementWise(list1,list2):\n",
    "    output_list = [];\n",
    "    for num1 in list1:\n",
    "        for num2 in list2:\n",
    "            output_list.append(num1 + num2)\n",
    "    return output_list;\n",
    "list1 = [1, 2, 3, 4, 5, 6]\n",
    "list2 = [1, 2, 3, 4, 5, 6]\n",
    "print(combineElementWise(list1,list2))\n",
    "\n"
   ]
  },
  {
   "cell_type": "code",
   "execution_count": 25,
   "id": "8b1170e0-6e6b-47ea-81ec-ba5507b34abc",
   "metadata": {},
   "outputs": [
    {
     "name": "stdout",
     "output_type": "stream",
     "text": [
      "[4, 4, 9]\n"
     ]
    }
   ],
   "source": [
    "# 9. Write a program that takes a list of strings and returns a new list containing the lengths of each string.\n",
    "list_of_str = [\"ball\",\"card\",\"telephone\"]\n",
    "def lengthOfStr(list):\n",
    "    result = []\n",
    "    for str1 in list:\n",
    "        result.append(len(str1))\n",
    "    return result;\n",
    "\n",
    "print(lengthOfStr(list_of_str))"
   ]
  },
  {
   "cell_type": "code",
   "execution_count": 29,
   "id": "b3943cb4-f8a0-4bde-a467-51799a39df1e",
   "metadata": {},
   "outputs": [
    {
     "name": "stdout",
     "output_type": "stream",
     "text": [
      "1\n",
      "3\n",
      "5\n",
      "7\n",
      "9\n"
     ]
    }
   ],
   "source": [
    "# 10. Create a list of numbers from 1 to 10. Using list slicing and a for loop, print every second element of the list.\n",
    "\n",
    "temp_list = [1,2,3,4,5,6,7,8,9,10]\n",
    "sliced_list = temp_list[::2]\n",
    "\n",
    "for num in sliced_list:\n",
    "    print(num)\n",
    "    \n"
   ]
  },
  {
   "cell_type": "code",
   "execution_count": null,
   "id": "0276f463-3b2a-4b59-8e3a-193b2df65e35",
   "metadata": {},
   "outputs": [],
   "source": []
  }
 ],
 "metadata": {
  "kernelspec": {
   "display_name": "Python 3 (ipykernel)",
   "language": "python",
   "name": "python3"
  },
  "language_info": {
   "codemirror_mode": {
    "name": "ipython",
    "version": 3
   },
   "file_extension": ".py",
   "mimetype": "text/x-python",
   "name": "python",
   "nbconvert_exporter": "python",
   "pygments_lexer": "ipython3",
   "version": "3.13.0"
  }
 },
 "nbformat": 4,
 "nbformat_minor": 5
}
