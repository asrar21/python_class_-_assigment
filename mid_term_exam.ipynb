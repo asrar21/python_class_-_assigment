{
 "cells": [
  {
   "cell_type": "markdown",
   "metadata": {
    "id": "A400FLVUYkZu"
   },
   "source": [
    "NAME:Syed Muhammad Asrar Alam\n",
    "\n",
    "PROFESSION:Full stack developer\n",
    "\n",
    "ORGANIZATION:Simplicore Pakistan\n",
    "\n",
    "CONTACT NO.:03408321093\n",
    "\n",
    "EMAIL:alamsyedmohammadasrar@gmail.com\n",
    "\n",
    "```\n",
    "# This is formatted as code\n",
    "```\n",
    "\n"
   ]
  },
  {
   "cell_type": "markdown",
   "metadata": {
    "id": "6DGc4XbhZOJz"
   },
   "source": [
    "1-fruits = [&#39;apple&#39;, &#39;banana&#39;, &#39;cherry&#39;, &#39;date&#39;]\n",
    "(a) What does the method fruits.append(&#39;elderberry&#39;) do to the list?\n",
    "(b) What does the method fruits.remove(&#39;banana&#39;) do to the list?\n",
    "(c)What is the output of fruits.pop(2)? What will the list look like after this operation?"
   ]
  },
  {
   "cell_type": "code",
   "execution_count": 4,
   "metadata": {
    "colab": {
     "base_uri": "https://localhost:8080/"
    },
    "id": "2dtGD7fJZ25o",
    "outputId": "3a314161-286a-4e92-b3f9-e3b3e3a3ddda"
   },
   "outputs": [
    {
     "name": "stdout",
     "output_type": "stream",
     "text": [
      "(A) :fruits.append('elderberry') will add 'elderberry' the variable in the fruits list  ['apple', 'banana', 'cherry', 'date', 'elderberry']\n",
      "(B) :fruits.remove('banana') will remove banana from the fruits list; ['apple', 'cherry', 'date', 'elderberry']\n",
      "(C) :fruits.pop(2) will remove date from the list ['apple', 'cherry', 'elderberry']\n"
     ]
    }
   ],
   "source": [
    "fruits = ['apple', 'banana', 'cherry', 'date']\n",
    "fruits.append('elderberry')\n",
    "print(\"(A) :fruits.append('elderberry') will add 'elderberry' the variable in the fruits list \",fruits)\n",
    "fruits.remove('banana')\n",
    "print(\"(B) :fruits.remove('banana') will remove banana from the fruits list;\",fruits)\n",
    "fruits.pop(2)\n",
    "print(\"(C) :fruits.pop(2) will remove date from the list\",fruits)\n"
   ]
  },
  {
   "cell_type": "markdown",
   "metadata": {
    "id": "n_Ieif_wbGyd"
   },
   "source": [
    "2- Write a Python script that asks the user for their name and age, stores them in variables,\n",
    "and then prints a message saying &quot;Hello [name], you are [age] years old.&quot;"
   ]
  },
  {
   "cell_type": "code",
   "execution_count": 5,
   "metadata": {
    "colab": {
     "base_uri": "https://localhost:8080/"
    },
    "id": "euWO_47cbLH9",
    "outputId": "f4aec19d-dc6d-4be2-d58d-a16eadca0b52"
   },
   "outputs": [
    {
     "name": "stdout",
     "output_type": "stream",
     "text": [
      "Enter Your Name : asrar\n",
      "Enter Your Age : 29\n",
      "Hello  asrar You are 29 years Old\n"
     ]
    }
   ],
   "source": [
    "name = input(\"Enter Your Name : \")\n",
    "age = int(input(\"Enter Your Age : \"))\n",
    "print(\"Hello \",name,\"You are\", age , \"years Old\")"
   ]
  },
  {
   "cell_type": "markdown",
   "metadata": {
    "id": "3M8EYNygbxmQ"
   },
   "source": [
    "3- Write a Python script that checks if a number entered in a variable num by a user is\n",
    "positive, negative, or zero,or check if a user enter any invalid character and prints an\n",
    "appropriate message for each case."
   ]
  },
  {
   "cell_type": "code",
   "execution_count": 12,
   "metadata": {
    "colab": {
     "base_uri": "https://localhost:8080/"
    },
    "id": "GEucE1QUb1qV",
    "outputId": "ffc8630b-e27f-4af7-ebfd-1587190976a5"
   },
   "outputs": [
    {
     "name": "stdout",
     "output_type": "stream",
     "text": [
      "Enter  a Number :99\n",
      "number is positive\n"
     ]
    }
   ],
   "source": [
    "num = input(\"Enter  a Number :\")\n",
    "if num.replace(\"-\",'').replace(\",\",\"\").replace(\" \",'').isdigit():\n",
    "  if(int(num) > 0 ):\n",
    "    print(\"number is positive\")\n",
    "  elif (int(num) == 0 ):\n",
    "    print(\"number is zero\")\n",
    "  else:\n",
    "    print(\"number is negative\")\n",
    "else:\n",
    "  print(\"Invalid Number\")"
   ]
  },
  {
   "cell_type": "markdown",
   "metadata": {
    "id": "35KU0daxdODr"
   },
   "source": [
    "5- The diameter of a circle is 15 meters.\n",
    "i-Calculate the area of a circle and assign the value to a variable name of area_of_circle\n",
    "ii- Calculate the circumference of a circle and assign the value to a variable name of\n",
    "circum_of_circle\n",
    "iii- Take diameter as user input and calculate the area."
   ]
  },
  {
   "cell_type": "code",
   "execution_count": 15,
   "metadata": {
    "colab": {
     "base_uri": "https://localhost:8080/"
    },
    "id": "7oSyUYrfd9jX",
    "outputId": "aa9238b1-9e5a-498a-b26b-5db74edcb5b4"
   },
   "outputs": [
    {
     "name": "stdout",
     "output_type": "stream",
     "text": [
      "Enter diameter of a circle :15\n",
      "So radius will be  7.5\n",
      "area of circle is :  176.625\n",
      "Circumference of a circle is : 47.1\n"
     ]
    }
   ],
   "source": [
    "#  As diameter is d=15 and area formula of a circle is A = (pi)r^2\n",
    "#  so we will first find radius using this formula d=2r\n",
    "\n",
    "d = float(input(\"Enter diameter of a circle :\"))\n",
    "r = d /2\n",
    "print(\"So radius will be \",r)\n",
    "#  now fiding are of a circle using formula A = (pi)r^2 pi value is 3.14\n",
    "pi = 3.14\n",
    "area_of_circle = (pi) * (r**2)\n",
    "print(\"area of circle is : \",area_of_circle)\n",
    "\n",
    "#  as formula for circumference of circle is c =2(pi)(r)\n",
    "circum_of_circle = 2* (pi) * (r)\n",
    "print(\"Circumference of a circle is :\" ,circum_of_circle)\n"
   ]
  },
  {
   "cell_type": "markdown",
   "metadata": {
    "id": "vr4GMJWtgWKm"
   },
   "source": [
    "6-A travel company wants to fly a plane to the Bahamas. Flying the plane costs 5000\n",
    "dollars. So far, 29 people have signed up for the trip. If the company charges 200 dollars\n",
    "per ticket, what is the profit made by the company? Create variables for each numeric\n",
    "quantity and use appropriate arithmetic operations."
   ]
  },
  {
   "cell_type": "code",
   "execution_count": 17,
   "metadata": {
    "colab": {
     "base_uri": "https://localhost:8080/"
    },
    "id": "KZwPdzbkgYZC",
    "outputId": "c1d8c6dd-df83-4dcd-85ac-a7e54c681071"
   },
   "outputs": [
    {
     "name": "stdout",
     "output_type": "stream",
     "text": [
      "your Revenue is :  800\n"
     ]
    }
   ],
   "source": [
    "total_flying_cost= 5000\n",
    "number_of_people = 29\n",
    "cost_per_ticket = 200\n",
    "total_amount_received = number_of_people * cost_per_ticket;\n",
    "total_earning_generated =  total_amount_received - total_flying_cost\n",
    "print(\"your Revenue is : \",total_earning_generated)"
   ]
  },
  {
   "cell_type": "markdown",
   "metadata": {
    "id": "P92RfAurhU-i"
   },
   "source": [
    "7-Write a Python program to create a menu-driven calculator that can perform the\n",
    "following operations:\n",
    "1. Addition\n",
    "2. Subtraction\n",
    "3. Multiplication\n",
    "4. Factorial\n",
    "5. Division\n",
    "6. Exponentiation (Power)\n",
    "7. Square Root\n",
    "Requirements:\n",
    " Display a menu of options for the user to choose from.\n",
    " Perform the selected operation based on the user&#39;s choice.\n",
    " Continue displaying the menu until the user chooses to exit.\n",
    " The program should handle the following:\n",
    "o For factorial, ensure the number is a non-negative integer.\n",
    "\n",
    "o For division, handle division by zero and provide an error message if the\n",
    "user attempts to divide by zero.\n",
    "o For square root, check for valid input (non-negative numbers).\n",
    "o For exponentiation, calculate the power of a number."
   ]
  },
  {
   "cell_type": "code",
   "execution_count": 52,
   "metadata": {
    "colab": {
     "base_uri": "https://localhost:8080/"
    },
    "id": "6Hx6Nrx_hWGL",
    "outputId": "334623a4-3e00-4bc5-c3d8-46af3ae026c2"
   },
   "outputs": [
    {
     "name": "stdout",
     "output_type": "stream",
     "text": [
      "\n",
      "1-Addition\n",
      "2-Subtraction\n",
      "3-Multiplication\n",
      "4-Factorial\n",
      "5-Division\n",
      "6-Exponentiation (Power)\n",
      "7-Square Root\n",
      "Select operation you want to perform on these numbers6\n",
      "Enter exponential Number  34\n",
      "number 1 is: 34 exp of num1 is 583461742527454.9\n"
     ]
    }
   ],
   "source": [
    "import math\n",
    "\n",
    "print('''\n",
    "1-Addition\n",
    "2-Subtraction\n",
    "3-Multiplication\n",
    "4-Factorial\n",
    "5-Division\n",
    "6-Exponentiation (Power)\n",
    "7-Square Root''')\n",
    "select_option = input(\"Select operation you want to perform on these numbers\")\n",
    "\n",
    "\n",
    "\n",
    "if (num1.replace(\"-\",'').replace(\",\",\"\").replace(\" \",'').isdigit()) and (num2.replace(\"-\",'').replace(\",\",\"\").replace(\" \",'').isdigit()):\n",
    "  if select_option == '1':\n",
    "    num1 = input(\"Enter Number 1 \")\n",
    "    num2 = input(\"Enter Number 2 \")\n",
    "    print(\"number 1 is:\",num1,\"number2 is\",num2,\"Result is\", float(num1)+float(num2))\n",
    "  elif select_option == '2':\n",
    "    num1 = input(\"Enter Number 1 \")\n",
    "    num2 = input(\"Enter Number 2 \")\n",
    "    print(\"number 1 is:\",num1,\"number2 is\",num2,\"Result is\", float(num1)-float(num2))\n",
    "  elif select_option == '3':\n",
    "    num1 = input(\"Enter Number 1 \")\n",
    "    num2 = input(\"Enter Number 2 \")\n",
    "    print(\"number 1 is:\",num1,\"number2 is\",num2,\"Result is\", float(num1) * float(num2))\n",
    "  elif select_option == '4':\n",
    "    num1 = input(\"Enter Factorial Number  \")\n",
    "    print(\"number 1 is:\",num1,\"fatorial of num1 is\",math.factorial(int(num1)))\n",
    "  elif select_option  == '5':\n",
    "     num1 = input(\"Enter Number 1 \")\n",
    "     num2 = input(\"Enter Number 2 \")\n",
    "     if int(num2) == 0:\n",
    "      print(\"num1 cannot be divisible by zero\")\n",
    "     else:\n",
    "      print(\"number 1 is:\",num1,\"number2 is\",num2,\"Result is\", float(num1) / float(num2))\n",
    "  elif select_option == '6':\n",
    "     num1 = input(\"Enter exponential Number  \")\n",
    "     print(\"number 1 is:\",num1,\"exp of num1 is\",math.exp(int(num1)))\n",
    "  elif select_option == '7':\n",
    "    num1 = input(\"Enter sqrt Number  \")\n",
    "    print(\"number 1 is:\",num1,\"sqrt of num1 is\",math.sqrt(int(num1)))\n",
    "\n",
    "else:\n",
    "  print(\"Enter a valid Number\")\n",
    "\n"
   ]
  },
  {
   "cell_type": "markdown",
   "metadata": {
    "id": "7t-MsBcamxFP"
   },
   "source": [
    "8- Write a Python program that performs the following steps:\n",
    "1. Email Format Validation:\n",
    "o Ask the user to enter their email address.\n",
    "o Verify if the email address is in a valid format (e.g., username@domain.com).\n",
    "You can use a regular expression to check the validity of the email format.\n",
    "\n",
    "2. Credentials Check:\n",
    "o If the email format is valid, prompt the user to enter their username and\n",
    "password.\n",
    "o Check if the entered username and password match the stored credentials\n",
    "(hardcode a username and password for the purpose of this task).\n",
    "o If the credentials are correct, display a welcome message.\n",
    "3. Retry on Incorrect Password:\n",
    "o If the password entered is incorrect, give the user one more chance to enter\n",
    "the correct password.\n",
    "o If the second attempt also fails, display a message indicating that the login\n",
    "has failed."
   ]
  },
  {
   "cell_type": "code",
   "execution_count": 39,
   "metadata": {
    "colab": {
     "base_uri": "https://localhost:8080/"
    },
    "id": "Xr7miirfmyQM",
    "outputId": "8752a1a8-d673-48d5-88f0-7bd70604e023"
   },
   "outputs": [
    {
     "name": "stdout",
     "output_type": "stream",
     "text": [
      "Enter your username  ahmed@gmail.com\n",
      "Enter your password ahmed\n",
      "Correct email\n",
      "password is wrong\n",
      "reEnter your password  1234\n",
      "your Account is blocked please try after few hours\n"
     ]
    }
   ],
   "source": [
    "#  username and password\n",
    "username = input(\"Enter your username  \")\n",
    "\n",
    "Username = 'ahmed@gmail.com'\n",
    "Password = 'ahmed@321'\n",
    "if '@' in username:\n",
    "  password = input(\"Enter your password \")\n",
    "  print(\"Correct email\")\n",
    "  if username == Username and password == Password:\n",
    "    print(\"Welcome to dashboard\")\n",
    "  elif username == Username and password != Password:\n",
    "    print(\"password is wrong\")\n",
    "    password = input(\"reEnter your password  \")\n",
    "    if Password == password:\n",
    "      print(\"Welcome to dashboard\")\n",
    "    else:\n",
    "        print(\"your Account is blocked please try after few hours\")\n",
    "else:\n",
    "  print(\"Invalid Credentials\")"
   ]
  },
  {
   "cell_type": "markdown",
   "metadata": {
    "id": "Oz3N-Hyzoq1-"
   },
   "source": [
    "9- (a) Working with Tuples:\n",
    "Consider the following tuple:\n",
    "coordinates = (12.5, 45.8, 33.1)\n",
    "i. Write a Python code snippet to unpack the values of the coordinates tuple into three\n",
    "variables: x, y, and z.\n",
    "ii. Explain why tuples are generally preferred over lists for storing fixed sets of data.\n",
    "(b) Working with Dictionaries:\n",
    "student_scores = {&#39;Ali&#39;: 85, &#39;Saima&#39;: 90, &#39;Kabeer&#39;: 78}\n",
    "i. Write a Python code snippet to add a new student Ahmed with a score of 92 to the\n",
    "student_scores dictionary.\n",
    "ii. Write a Python code snippet to update Kabeer&#39;s score to 82 in the student_scores\n",
    "dictionary."
   ]
  },
  {
   "cell_type": "code",
   "execution_count": 34,
   "metadata": {
    "colab": {
     "base_uri": "https://localhost:8080/"
    },
    "id": "xbU0eYzgotGh",
    "outputId": "b0e733e5-750c-448c-e2a0-b983bb5c9b18"
   },
   "outputs": [
    {
     "name": "stdout",
     "output_type": "stream",
     "text": [
      "i. x is 12.5 y is  45.8 z is 33.1\n",
      "ii. because tuples are immutable in nature thats why they are preferred over list \n",
      "Working with dictionery\n",
      "i.  {'Ali': 85, 'Saima': 90, 'Kabeer': 78, 'Ahmed': 92}\n",
      "ii.  {'Ali': 85, 'Saima': 90, 'Kabeer': 82, 'Ahmed': 92}\n"
     ]
    }
   ],
   "source": [
    "coordinates = (12.5, 45.8, 33.1)\n",
    "x,y,z = coordinates\n",
    "print(\"i. x is\",x,'y is ',y,'z is',z)\n",
    "print(\"ii. because tuples are immutable in nature thats why they are preferred over list \")\n",
    "print(\"Working with dictionery\")\n",
    "student_scores =  {'Ali': 85, 'Saima': 90, 'Kabeer': 78}\n",
    "student_scores.update({'Ahmed':92})\n",
    "print(\"i. \",student_scores)\n",
    "student_scores['Kabeer'] = 82\n",
    "print(\"ii. \",student_scores)"
   ]
  }
 ],
 "metadata": {
  "colab": {
   "provenance": []
  },
  "kernelspec": {
   "display_name": "Python 3 (ipykernel)",
   "language": "python",
   "name": "python3"
  },
  "language_info": {
   "codemirror_mode": {
    "name": "ipython",
    "version": 3
   },
   "file_extension": ".py",
   "mimetype": "text/x-python",
   "name": "python",
   "nbconvert_exporter": "python",
   "pygments_lexer": "ipython3",
   "version": "3.13.0"
  }
 },
 "nbformat": 4,
 "nbformat_minor": 4
}
