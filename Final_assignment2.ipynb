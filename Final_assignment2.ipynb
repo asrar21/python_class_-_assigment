{
 "cells": [
  {
   "cell_type": "code",
   "execution_count": 2,
   "id": "6a1d8cc9-67a5-425c-98dc-e9d66026c732",
   "metadata": {},
   "outputs": [
    {
     "name": "stdout",
     "output_type": "stream",
     "text": [
      "#\n",
      "##\n",
      "###\n",
      "####\n",
      "#####\n",
      "######\n",
      "#######\n"
     ]
    }
   ],
   "source": [
    "# Question # 1:\n",
    "# Answer\n",
    "rows = 7\n",
    "for i in range(1,rows+1):\n",
    "    for j in range(1,i+1):\n",
    "        print('#',end='')\n",
    "    print('') \n"
   ]
  },
  {
   "cell_type": "code",
   "execution_count": 1,
   "id": "c361a9fd-ee6b-49bc-ba8a-10d54a577221",
   "metadata": {},
   "outputs": [
    {
     "name": "stdout",
     "output_type": "stream",
     "text": [
      "########\n",
      "########\n",
      "########\n",
      "########\n",
      "########\n",
      "########\n",
      "########\n",
      "########\n"
     ]
    }
   ],
   "source": [
    "# Question # 2\n",
    "# Asnwer \n",
    "rows = 8\n",
    "col = 8\n",
    "for i in range(rows):\n",
    "    for j in range(col):\n",
    "        print('#',end='')\n",
    "    print('') \n"
   ]
  },
  {
   "cell_type": "code",
   "execution_count": 15,
   "id": "e392a307-dfb0-42e0-b46f-c9f5ad87b297",
   "metadata": {},
   "outputs": [
    {
     "name": "stdout",
     "output_type": "stream",
     "text": [
      "Python\n",
      "Numpy\n",
      "Pandas\n",
      "Django\n",
      "Flask\n"
     ]
    }
   ],
   "source": [
    "# 3. Iterate through the list, ['Python', 'Numpy','Pandas','Django', 'Flask'] using a forloop and print out the items.\n",
    "tech_list = ['Python', 'Numpy','Pandas','Django', 'Flask']\n",
    "for tech in tech_list:\n",
    "    print(tech)"
   ]
  },
  {
   "cell_type": "code",
   "execution_count": 18,
   "id": "c1f6eefc-86e9-4106-a6cf-0c6b5b925f04",
   "metadata": {},
   "outputs": [
    {
     "name": "stdout",
     "output_type": "stream",
     "text": [
      "(2550, 2500)\n"
     ]
    }
   ],
   "source": [
    "# 4. Use for loop to iterate from 0 to 100 and print the sum of all evens and the sum ofall odds.\n",
    "def sumOfEvenNumber(list):\n",
    "    sum_of_even =0\n",
    "    sum_of_odd =0\n",
    "    for num in list:\n",
    "        if num%2 == 0:\n",
    "            sum_of_even +=num\n",
    "        else:\n",
    "             sum_of_odd +=num\n",
    "    return sum_of_even,sum_of_odd;\n",
    "list = range(0,101)\n",
    "print(sumOfEvenNumber(list))    \n",
    "    \n",
    "            \n",
    "            "
   ]
  },
  {
   "cell_type": "code",
   "execution_count": 19,
   "id": "cd0a41ba-d8f7-4883-bb70-8664d2015b4c",
   "metadata": {},
   "outputs": [
    {
     "name": "stdout",
     "output_type": "stream",
     "text": [
      "[1, 8, 27, 64, 125, 216]\n"
     ]
    }
   ],
   "source": [
    "# 5. Calculate the cube of all numbers from 1 to a given number\n",
    "list_of_numbers = [1,2,3,4,5,6]\n",
    "cube_list = []\n",
    "for num in list_of_numbers:\n",
    "    cube_list.append(num**3)\n",
    "\n",
    "print(cube_list)\n"
   ]
  },
  {
   "cell_type": "code",
   "execution_count": 20,
   "id": "cf16d2f0-d540-43f1-aa90-b5ff974bdde0",
   "metadata": {},
   "outputs": [
    {
     "name": "stdout",
     "output_type": "stream",
     "text": [
      "result is 7\n"
     ]
    }
   ],
   "source": [
    "# 6. Declare a function add_two_numbers. It takes two parameters and it returns a sum.\n",
    "def sumOfNumbers(num1,num2):\n",
    "    return num1 + num2;\n",
    "\n",
    "print(\"result is\",sumOfNumbers(3,4))"
   ]
  },
  {
   "cell_type": "code",
   "execution_count": 21,
   "id": "0e9d45df-e3f0-42d0-a287-7a89e0bf7337",
   "metadata": {},
   "outputs": [
    {
     "name": "stdin",
     "output_type": "stream",
     "text": [
      "Enter radius  34\n"
     ]
    },
    {
     "name": "stdout",
     "output_type": "stream",
     "text": [
      "area of a circle is 3930.4\n"
     ]
    }
   ],
   "source": [
    "# 7. Area of a circle is calculated as follows: area = π x r x r. Write a function that calculates area_of_circle.\n",
    "def calculateAreaAndCircumFerence(radius):\n",
    "  pi = 3.4\n",
    "  print(\"area of a circle is\",pi* (radius * radius))\n",
    " \n",
    "\n",
    "\n",
    "radius = float(input(\"Enter radius \"))\n",
    "calculateAreaAndCircumFerence(radius)\n",
    "\n",
    "\n"
   ]
  },
  {
   "cell_type": "code",
   "execution_count": 30,
   "id": "782a9d28-3341-4f0b-8d21-4c2e547b49d2",
   "metadata": {},
   "outputs": [
    {
     "name": "stdout",
     "output_type": "stream",
     "text": [
      "This not number\n",
      "This not number\n",
      "62\n"
     ]
    }
   ],
   "source": [
    "# calculates area_of_circle. 8. Write a function called add_all_nums which takes an arbitrary number of arguments and sums all the arguments. \n",
    "# Check if all the list items are numbertypes. If not, do give reasonable feedback.\n",
    "def add_all_nums(list):\n",
    "    sum_of_num = 0\n",
    "    for num in list:\n",
    "        if isinstance(num, int):\n",
    "            sum_of_num +=num\n",
    "        else:\n",
    "            print(\"This not number\")\n",
    "    return sum_of_num\n",
    "\n",
    "\n",
    "print(add_all_nums([1,2,3,'ds','ty',56]))\n",
    "    \n",
    "\n",
    "\n"
   ]
  },
  {
   "cell_type": "code",
   "execution_count": 32,
   "id": "613881cb-aaff-4cb9-bc57-50d936a08b1d",
   "metadata": {},
   "outputs": [
    {
     "name": "stdout",
     "output_type": "stream",
     "text": [
      "113.0\n"
     ]
    }
   ],
   "source": [
    "# 9. Temperature in °C can be converted to °F using this formula: °F = (°C x 9/5) +32. \n",
    "# Write a function which converts °C to °F, convert_celsius_to-fahrenheit.\n",
    "\n",
    "def convert_celsius_to_fahrenheit(cel):\n",
    "    fahrenheit = (cel * (9/5)) +32\n",
    "    return fahrenheit \n",
    "\n",
    "\n",
    "print(convert_celsius_to_fahrenheit(45))"
   ]
  },
  {
   "cell_type": "code",
   "execution_count": 34,
   "id": "3e502d0b-a08d-46f4-a0ef-9abe43039099",
   "metadata": {},
   "outputs": [
    {
     "name": "stdin",
     "output_type": "stream",
     "text": [
      "Enter a month  4\n"
     ]
    },
    {
     "name": "stdout",
     "output_type": "stream",
     "text": [
      "it is spring\n",
      "None\n"
     ]
    }
   ],
   "source": [
    "#  10.Write a function called check-season, it takes a month parameter and returns the\n",
    "# season: Autumn, Winter, Spring or Summer.\n",
    "\n",
    "def check_season(month):\n",
    "    if month == 1 and month <= 3:\n",
    "        print(\"it is autum\")\n",
    "    elif month > 3 and month <=5:\n",
    "        print(\"it is spring\")\n",
    "    elif month > 5 and month <=9:\n",
    "        print(\"it is summer\")\n",
    "    else:\n",
    "        print(\"it is winter\")\n",
    "\n",
    "\n",
    "month = int(input(\"Enter a month \"))\n",
    "print(check_season(month))"
   ]
  },
  {
   "cell_type": "code",
   "execution_count": 35,
   "id": "130afce8-48fd-4e97-ba3a-eb1e02a96af1",
   "metadata": {},
   "outputs": [
    {
     "name": "stdout",
     "output_type": "stream",
     "text": [
      "y = Mx + C\n"
     ]
    }
   ],
   "source": [
    "# 11.Write a function called calculate_slope which return the slope of a linear equation\n",
    "\n",
    "def calculate_slope():\n",
    "    linear_equation = 'y = Mx + C'\n",
    "    return linear_equation\n",
    "\n",
    "print(calculate_slope())"
   ]
  },
  {
   "cell_type": "code",
   "execution_count": 40,
   "id": "6a88fdfc-acf2-4d8a-8857-67cec5f46f8d",
   "metadata": {},
   "outputs": [
    {
     "name": "stdin",
     "output_type": "stream",
     "text": [
      "Enter the coefficients of a:  4000\n",
      "Enter the coefficients of b:  500\n",
      "Enter the coefficients of c:  34\n"
     ]
    },
    {
     "name": "stdout",
     "output_type": "stream",
     "text": [
      "This equation has no real solution\n",
      "None\n"
     ]
    }
   ],
   "source": [
    "# 12.Quadratic equation is calculated as follows: ax2 + bx + c = 0. Write a function\n",
    "# which calculates the solution set of a quadratic equation, solve_quadratic_eqn.\n",
    "\n",
    "import math\n",
    "def solve_quadratic_eqn():\n",
    "    a = int(input(\"Enter the coefficients of a: \"))\n",
    "    b = int(input(\"Enter the coefficients of b: \"))\n",
    "    c = int(input(\"Enter the coefficients of c: \"))\n",
    "    d = b**2-4*a*c \n",
    "    if d < 0:\n",
    "        print (\"This equation has no real solution\")\n",
    "    elif d == 0:\n",
    "        x = (-b+math.sqrt(b**2-4*a*c))/2*a\n",
    "        print (\"This equation has one solutions: \"), x\n",
    "    else:\n",
    "        x1 = (-b+math.sqrt((b**2)-(4*(a*c))))/(2*a)\n",
    "        x2 = (-b-math.sqrt((b**2)-(4*(a*c))))/(2*a)\n",
    "        print (\"This equation has two solutions: \", x1, \" or\", x2)\n",
    "\n",
    "\n",
    "print(solve_quadratic_eqn())"
   ]
  },
  {
   "cell_type": "code",
   "execution_count": 41,
   "id": "fd7d4dd4-434d-4338-b027-c4d50c8bd737",
   "metadata": {},
   "outputs": [
    {
     "name": "stdout",
     "output_type": "stream",
     "text": [
      "item in list 1\n",
      "item in list 2\n",
      "item in list 3\n",
      "item in list 4\n",
      "item in list 5\n",
      "item in list ,g\n",
      "item in list gdfs\n",
      "None\n"
     ]
    }
   ],
   "source": [
    "#  13.Declare a function named print_list. \n",
    "# It takes a list as a parameter and it prints outeach element of the list.\n",
    "def print_list(list):\n",
    "    for item in list:\n",
    "        print(\"item in list\",item)\n",
    "\n",
    "\n",
    "print(print_list([1,2,3,4,5,',g','gdfs']))\n",
    "\n"
   ]
  },
  {
   "cell_type": "code",
   "execution_count": 51,
   "id": "7be4cd41-e7fc-476f-83d0-b158fdc1c1b4",
   "metadata": {},
   "outputs": [
    {
     "name": "stdout",
     "output_type": "stream",
     "text": [
      "[4, 3, 2, 1]\n"
     ]
    }
   ],
   "source": [
    "# 14.Declare a function named reverse_list. It takes an array as a parameter and it\n",
    "# returns the reverse of the array (use loops).\n",
    "\n",
    "# print(reverse_list([1, 2, 3, 4, 5]))\n",
    "# [5, 4, 3, 2, 1]\n",
    "# print(reverse_list1([\"A\", \"B\", \"C\"]))\n",
    "# [\"C\", \"B\", \"A\"]\n",
    "\n",
    "def reverse_list(list):\n",
    "    new_list = []\n",
    "    for item in range(len(list)-1,0,-1):\n",
    "        new_list.append(item)\n",
    "    return new_list\n",
    "    \n",
    " \n",
    "\n",
    "\n",
    "print(reverse_list([1, 2, 3, 4, 5]))"
   ]
  },
  {
   "cell_type": "code",
   "execution_count": 68,
   "id": "83409492-7e75-4977-bf25-725417ceb1c5",
   "metadata": {},
   "outputs": [
    {
     "name": "stdout",
     "output_type": "stream",
     "text": [
      "(1, 0)\n",
      "(0, 1)\n",
      "(1, 0)\n",
      "(0, 1)\n",
      "(1, 0)\n",
      "(0, 1)\n",
      "(1, 0)\n",
      "(0, 1)\n",
      "(1, 0)\n",
      "(0, 1)\n"
     ]
    }
   ],
   "source": [
    "# 15.Declare a function named evens_and_odds . It takes a positive integer as a\n",
    "# parameter and it counts the number of events and odds in the number.\n",
    "\n",
    "def even_and_odds(num):\n",
    "    even_count = 0\n",
    "    odd_count = 0\n",
    "    if num%2==0:\n",
    "        even_count +=1\n",
    "        # print(\"Number is even\")\n",
    "    else:\n",
    "        odd_count +=1\n",
    "        # print(\"Number is odd\")\n",
    "        \n",
    "    return even_count,odd_count\n",
    "    \n",
    "\n",
    "\n",
    "for i in range(0,10):\n",
    "     print(even_and_odds(i))\n",
    "\n",
    "\n"
   ]
  },
  {
   "cell_type": "code",
   "execution_count": null,
   "id": "7558371e-cede-408a-a158-553fd1d1a2d1",
   "metadata": {},
   "outputs": [],
   "source": [
    "# 16.Write different functions which take lists. They should calculate_mean,\n",
    "# calculate_median, calculate_mode, calculate_range, calculate_variance,\n",
    "# calculate_std (standard deviation)."
   ]
  },
  {
   "cell_type": "code",
   "execution_count": 74,
   "id": "14dc0904-da53-4cde-b580-7667c55dcf2f",
   "metadata": {},
   "outputs": [
    {
     "name": "stdout",
     "output_type": "stream",
     "text": [
      "3.0\n",
      "set()\n",
      "0.21428571428571427\n",
      "200.0\n",
      "10.0\n"
     ]
    }
   ],
   "source": [
    "from math import sqrt\n",
    "def calculate_median(list):\n",
    "    return ((len(list) + 1)/2);\n",
    "\n",
    "def calculate_mode(list):\n",
    "    uniq_values = []\n",
    "    mode_values = []\n",
    "    for i in list:\n",
    "        if i not in uniq_values:\n",
    "            uniq_values.append(i)\n",
    "        else:\n",
    "            mode_values.append(i)\n",
    "            \n",
    "        return set(mode_values)\n",
    "\n",
    "\n",
    "def calculate_range(list):\n",
    "    start_value = list[0]\n",
    "    end_value = list[len(list) -1]\n",
    "    range_value = (start_value / end_value) / 2\n",
    "    return range_value\n",
    "\n",
    "\n",
    "def calculate_variance(list):\n",
    "    mean = sum(list) / len(list)\n",
    "    squared_differences = [(i - mean) ** 2 for i in list]\n",
    "    variance = sum(squared_differences) / len(list)\n",
    "    return variance;\n",
    "\n",
    "def calculate_std(list):\n",
    "    mean =sum(list)/len(list)\n",
    "    SUM= 0\n",
    "    for i in list :\n",
    "        SUM +=(i-mean)**2\n",
    "        \n",
    "        stdeV = sqrt(SUM/(len(list)-1)) \n",
    "        return stdeV\n",
    "\n",
    "number_list = [30,40,50,60,70]\n",
    "print(calculate_median(number_list))    \n",
    "print(calculate_mode(number_list))    \n",
    "print(calculate_range(number_list))    \n",
    "print(calculate_variance(number_list))    \n",
    "print(calculate_std(number_list))    \n",
    "    \n",
    "    \n",
    "            "
   ]
  },
  {
   "cell_type": "code",
   "execution_count": 77,
   "id": "26c92058-a1c8-47cf-940a-8d7d41c4335b",
   "metadata": {},
   "outputs": [
    {
     "name": "stdout",
     "output_type": "stream",
     "text": [
      "True\n"
     ]
    }
   ],
   "source": [
    "# 17.Write a function which checks if all items are unique in the list.\n",
    "def unique_values(list):\n",
    "    s = set()\n",
    "    for x in list:\n",
    "        if x in s: return False\n",
    "        s.add(x)\n",
    "    return True\n",
    "\n",
    "print(unique_values([1,2,3,4,5,6,7]))\n"
   ]
  },
  {
   "cell_type": "code",
   "execution_count": 100,
   "id": "56fea419-2f56-47d2-8ee5-ebd130084b69",
   "metadata": {},
   "outputs": [
    {
     "name": "stdout",
     "output_type": "stream",
     "text": [
      "False\n"
     ]
    }
   ],
   "source": [
    "# 18.Write a function which checks if all the items of the list are of the same data type.\n",
    "def item_same_data_type(list):\n",
    "    any_type_different = False\n",
    "    for x in range(0,len(list)-1):\n",
    "        if type(list[x]) == type(list[x+1]):\n",
    "            any_type_different = False\n",
    "        else:\n",
    "            any_type_different = True\n",
    "            \n",
    "    if any_type_different == True :\n",
    "        return False\n",
    "    else:\n",
    "        return True\n",
    "\n",
    "print(item_same_data_type([1,2,3,4,5,9,10,546,6,768,5.6]))"
   ]
  },
  {
   "cell_type": "code",
   "execution_count": 142,
   "id": "5d5da37e-d5d9-4591-b13b-6a5990a2e26b",
   "metadata": {},
   "outputs": [
    {
     "name": "stdout",
     "output_type": "stream",
     "text": [
      "your variable is fine for python\n",
      "False\n"
     ]
    }
   ],
   "source": [
    "# 19.Write a function which check if provided variable is a valid python variable\n",
    "def checkVariableInPython(var):\n",
    "    index = 0\n",
    "    variable_check = False\n",
    "    for i in var:\n",
    "        if index == 0 and i.isdigit():\n",
    "            print(\"variable cannot be start with digits\")\n",
    "            variable_check = True\n",
    "            break\n",
    "        elif '@' in i:\n",
    "            print(\"variable cannot be have  @\")\n",
    "            variable_check = True\n",
    "            break\n",
    "        elif '%' in i:\n",
    "            print(\"variable cannot be have  %\")\n",
    "            variable_check = True\n",
    "            break\n",
    "        else:\n",
    "            print(\"your variable is fine for python\")\n",
    "            variable_check = True\n",
    "            break\n",
    "            \n",
    "    if variable_check == True :\n",
    "        return False\n",
    "    else:\n",
    "        return True\n",
    "            \n",
    "\n",
    "print(checkVariableInPython('su@'))\n"
   ]
  },
  {
   "cell_type": "code",
   "execution_count": 143,
   "id": "0f590797-1636-47a6-a4f1-c3be1222a287",
   "metadata": {},
   "outputs": [
    {
     "name": "stdout",
     "output_type": "stream",
     "text": [
      "3\n"
     ]
    }
   ],
   "source": [
    "# 20.Write a Python program to detect the number of local variables declared in a function.\n",
    "def numberOfLocalVariables():\n",
    "    a = 30\n",
    "    b = 'dsafsad'\n",
    "    c = 'fsdafasd'\n",
    "    return len(locals())\n",
    "\n",
    "print(numberOfLocalVariables())"
   ]
  },
  {
   "cell_type": "code",
   "execution_count": null,
   "id": "3103ffbe-ad5b-4e54-af6c-05e4a52bcd10",
   "metadata": {},
   "outputs": [],
   "source": []
  },
  {
   "cell_type": "code",
   "execution_count": null,
   "id": "d9247e64-6bd4-462e-983e-a18e618ffb19",
   "metadata": {},
   "outputs": [],
   "source": []
  }
 ],
 "metadata": {
  "kernelspec": {
   "display_name": "Python 3 (ipykernel)",
   "language": "python",
   "name": "python3"
  },
  "language_info": {
   "codemirror_mode": {
    "name": "ipython",
    "version": 3
   },
   "file_extension": ".py",
   "mimetype": "text/x-python",
   "name": "python",
   "nbconvert_exporter": "python",
   "pygments_lexer": "ipython3",
   "version": "3.13.0"
  }
 },
 "nbformat": 4,
 "nbformat_minor": 5
}
