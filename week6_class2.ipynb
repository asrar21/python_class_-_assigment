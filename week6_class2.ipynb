{
 "cells": [
  {
   "cell_type": "code",
   "execution_count": 4,
   "id": "419a7daa-db5d-484d-b588-9dc1a9cfe95d",
   "metadata": {},
   "outputs": [
    {
     "name": "stdout",
     "output_type": "stream",
     "text": [
      "19\n"
     ]
    }
   ],
   "source": [
    "# Iterative statement\n",
    "# guess game randomly genrate number and guess \n",
    "import random\n",
    "jackpot = random.randint(1,100)\n",
    "guess_num = int(input(\"Enter guess number\"))\n",
    "print(jackpot)"
   ]
  },
  {
   "cell_type": "code",
   "execution_count": 5,
   "id": "2df372c5-3b11-46d2-8188-ab09e4bc6790",
   "metadata": {},
   "outputs": [
    {
     "name": "stdout",
     "output_type": "stream",
     "text": [
      "Apple\n",
      "Orange\n",
      "Grapes\n"
     ]
    }
   ],
   "source": [
    "# For loop\n",
    "fruits = [\"Apple\",\"Orange\",\"Grapes\"]\n",
    "for name in fruits:\n",
    "    print(name)"
   ]
  },
  {
   "cell_type": "code",
   "execution_count": 8,
   "id": "6075d679-5a97-40bb-8ff7-f6e0a57e944e",
   "metadata": {},
   "outputs": [
    {
     "name": "stdout",
     "output_type": "stream",
     "text": [
      "ahmeed 30\n",
      "Furquan 40\n",
      "Tania 70\n"
     ]
    }
   ],
   "source": [
    "#  distionery\n",
    "name_dict= {\"ahmeed\":30,\"Furquan\":40,\"Tania\":70}\n",
    "# print(type(name_dict))\n",
    "for item,val in name_dict.items():\n",
    "    print(item,val)"
   ]
  },
  {
   "cell_type": "code",
   "execution_count": 18,
   "id": "2e1bf628-57f9-46b9-a565-2a81c244ac08",
   "metadata": {},
   "outputs": [
    {
     "name": "stdout",
     "output_type": "stream",
     "text": [
      "10 year population 9091\n",
      "9 year population 8265\n",
      "8 year population 7514\n",
      "7 year population 6831\n",
      "6 year population 6210\n",
      "5 year population 5645\n",
      "4 year population 5132\n",
      "3 year population 4665\n",
      "2 year population 4241\n",
      "1 year population 3855\n"
     ]
    }
   ],
   "source": [
    "# Program - The current population of a town is 10000. The population of the town is increasing at the rate of 10% per year. \n",
    "# You have to write a program to find out the population at the end of each of the last 10 years.\n",
    "current_population = 10000\n",
    "ten_percent = 10000 * 0.10\n",
    "for num in range(10,0,-1):\n",
    "    current_population = round(current_population/1.1)\n",
    "    print(num,\"year population\",current_population)\n",
    "    # print(current_population)\n",
    "    \n",
    "    \n",
    "    \n",
    "    "
   ]
  },
  {
   "cell_type": "code",
   "execution_count": 19,
   "id": "be78d933-65c9-431a-91cc-9bd5f21a0b16",
   "metadata": {},
   "outputs": [
    {
     "name": "stdout",
     "output_type": "stream",
     "text": [
      "1 1\n",
      "1 2\n",
      "1 3\n",
      "1 4\n",
      "2 1\n",
      "2 2\n",
      "2 3\n",
      "2 4\n",
      "3 1\n",
      "3 2\n",
      "3 3\n",
      "3 4\n",
      "4 1\n",
      "4 2\n",
      "4 3\n",
      "4 4\n"
     ]
    }
   ],
   "source": [
    "# Nested Loop\n",
    "# 11\n",
    "# 12\n",
    "# 13\n",
    "for i in range(1,5):\n",
    "    for j in range(1,5):\n",
    "        print(i,j)"
   ]
  },
  {
   "cell_type": "code",
   "execution_count": 29,
   "id": "2cf055e8-cd31-42dc-9759-0ba45e86de2b",
   "metadata": {},
   "outputs": [
    {
     "name": "stdin",
     "output_type": "stream",
     "text": [
      "Enter Number of rows  5\n"
     ]
    },
    {
     "name": "stdout",
     "output_type": "stream",
     "text": [
      "*\n",
      "\n",
      "**\n",
      "\n",
      "***\n",
      "\n",
      "****\n",
      "\n",
      "*****\n",
      "\n"
     ]
    }
   ],
   "source": [
    "#  pattern 1\n",
    "# *\n",
    "# **\n",
    "# ***\n",
    "# ****\n",
    "rows = int(input(\"Enter Number of rows \"))\n",
    "for i in range(1,rows+1):\n",
    "    for j in range(1,i+1):\n",
    "        print('*',end='')\n",
    "    print('\\n')    \n",
    "  \n",
    "    "
   ]
  },
  {
   "cell_type": "code",
   "execution_count": 31,
   "id": "f078fdb3-c1e6-429f-a415-b4077e9038eb",
   "metadata": {},
   "outputs": [
    {
     "name": "stdout",
     "output_type": "stream",
     "text": [
      "*\n",
      "*\n"
     ]
    }
   ],
   "source": [
    "print('*',end='')\n",
    "print()\n",
    "print('*')"
   ]
  },
  {
   "cell_type": "code",
   "execution_count": null,
   "id": "fab3da10-9834-48ab-8cb6-ef8989755a64",
   "metadata": {},
   "outputs": [],
   "source": []
  }
 ],
 "metadata": {
  "kernelspec": {
   "display_name": "Python 3 (ipykernel)",
   "language": "python",
   "name": "python3"
  },
  "language_info": {
   "codemirror_mode": {
    "name": "ipython",
    "version": 3
   },
   "file_extension": ".py",
   "mimetype": "text/x-python",
   "name": "python",
   "nbconvert_exporter": "python",
   "pygments_lexer": "ipython3",
   "version": "3.13.0"
  }
 },
 "nbformat": 4,
 "nbformat_minor": 5
}
