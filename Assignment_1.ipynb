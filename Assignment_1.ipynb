{
 "cells": [
  {
   "cell_type": "code",
   "execution_count": null,
   "metadata": {
    "id": "hbNUBDirE8Uf"
   },
   "outputs": [],
   "source": [
    "Question1: Create the variable first name and your last name and Compare the length of your first name and your last name. Using the len() built-in function, find the length of your firstname"
   ]
  },
  {
   "cell_type": "code",
   "execution_count": 2,
   "metadata": {
    "colab": {
     "base_uri": "https://localhost:8080/"
    },
    "id": "85t0w7CVFSQj",
    "outputId": "920248fe-f587-4fc7-8245-11bd6f0dacc0"
   },
   "outputs": [
    {
     "name": "stdout",
     "output_type": "stream",
     "text": [
      "length of firstname is: 5\n"
     ]
    }
   ],
   "source": [
    "first_name = 'Asrar'\n",
    "last_name = 'Alam'\n",
    "print('length of firstname is:',len(first_name))"
   ]
  },
  {
   "cell_type": "markdown",
   "metadata": {
    "id": "dhmxWck5FzTB"
   },
   "source": [
    "Question 2:\n",
    "Declare 5 as num_one and 4 as num_two\n",
    " Add num_one and num_two and assign the value to a variable total\n",
    " Subtract num_two from num_one and assign the value to a variable\n",
    "diff\n",
    " Multiply num_two and num_one and assign the value to a variable\n",
    "product\n",
    " Divide num_one by num_two and assign the value to a variable\n",
    "division\n",
    " Use modulus division to find num_two divided by num_one and assign\n",
    "the value to a variable remainder\n",
    " Calculate num_one to the power of num_two and assign the value to\n",
    "a variable exp\n",
    " Find floor division of num_one by num_two and assign the value to\n",
    "a variable floor_division"
   ]
  },
  {
   "cell_type": "code",
   "execution_count": 3,
   "metadata": {
    "colab": {
     "base_uri": "https://localhost:8080/"
    },
    "id": "uFVHozelF2vD",
    "outputId": "18125707-2335-457b-cbb3-54dc9dce6320"
   },
   "outputs": [
    {
     "name": "stdout",
     "output_type": "stream",
     "text": [
      "total is : 9\n",
      "diff is : 1\n",
      "product is : 20\n",
      "division is : 1.25\n",
      "remainder is : 4\n",
      "exp is : 1024\n",
      "floor_division is : 1\n"
     ]
    }
   ],
   "source": [
    "num_one = 5\n",
    "num_two = 4\n",
    "total = num_one + num_two;\n",
    "diff =  num_one - num_two;\n",
    "product = num_one * num_two;\n",
    "division = num_one / num_two;\n",
    "remainder =   num_two % num_one;\n",
    "exp = num_two ** num_one;\n",
    "floor_division =  num_one // num_two;\n",
    "print(\"total is :\",total)\n",
    "print(\"diff is :\",diff)\n",
    "print(\"product is :\",product)\n",
    "print(\"division is :\",division)\n",
    "print(\"remainder is :\",remainder)\n",
    "print(\"exp is :\",exp)\n",
    "print(\"floor_division is :\",floor_division)"
   ]
  },
  {
   "cell_type": "markdown",
   "metadata": {
    "id": "5JqkKY5GHbWq"
   },
   "source": [
    "Question 3:\n",
    " The radius of a circle is 30 meters.\n",
    " Calculate the area of a circle and assign the value to a variable\n",
    "name of area_of_circle\n",
    " Calculate the circumference of a circle and assign the value to a\n",
    "variable name of circum_of_circle\n",
    " Take radius as user input and calculate the area."
   ]
  },
  {
   "cell_type": "code",
   "execution_count": null,
   "metadata": {
    "colab": {
     "base_uri": "https://localhost:8080/"
    },
    "id": "Hby__RfqHc8l",
    "outputId": "ee0ab7a5-04c6-48f4-ce66-5f744c2dda9c"
   },
   "outputs": [],
   "source": [
    "#radius of circle 30 meters\n",
    "#area of circle\n",
    "r = 30\n",
    "area_of_circle = (3.14159) * (r**2);\n",
    "#circumference of a circle\n",
    "circum_of_circle = 2 * (3.14159) * r;\n",
    "#input radius\n",
    "radius = int(input(\"Enter radius of circle\"))\n",
    "# area_of_circle after input radius\n",
    "area_of_circle1 = (3.14159) * (radius ** 2);\n",
    "print(\"area_of_circle is :\",area_of_circle)\n",
    "print(\"circum_of_circle is :\",circum_of_circle)\n",
    "print(\"area_of_circle1 is :\",area_of_circle1)\n"
   ]
  },
  {
   "cell_type": "markdown",
   "metadata": {
    "id": "DNVPFamhJNc-"
   },
   "source": [
    "Question 4:\n",
    "A grocery store sells a bag of ice for $1.25 and makes a 20% profit. If\n",
    "it sells 500 bags of ice, how much total profit does it make?"
   ]
  },
  {
   "cell_type": "code",
   "execution_count": null,
   "metadata": {
    "colab": {
     "base_uri": "https://localhost:8080/"
    },
    "id": "oNFSh1EUJO_4",
    "outputId": "9cafdcd3-3d3c-4eb1-ed75-82cfbb2f0536"
   },
   "outputs": [],
   "source": [
    "#First we have to find out the total price at which he sells formula is 500 x 1.25\n",
    "total_price = 500 * 1.25\n",
    "profit_percent = 20/100;\n",
    "total_profit = total_price * profit_percent;\n",
    "print(\"total_price is :\",total_price)\n",
    "print(\"profit_percent is :\",profit_percent)\n",
    "print(\"total_profit is :\",total_profit)\n"
   ]
  },
  {
   "cell_type": "markdown",
   "metadata": {
    "id": "fY_h3-lyKNVE"
   },
   "source": [
    "Question 5:\n",
    "A travel company wants to fly a plane to the Bahamas. Flying the plane\n",
    "costs 5000 dollars. So far, 29 people have signed up for the trip. If\n",
    "the company charges 200 dollars per ticket, what is the profit made by\n",
    "the company? Create variables for each numeric quantity and use\n",
    "appropriate arithmetic operations."
   ]
  },
  {
   "cell_type": "code",
   "execution_count": null,
   "metadata": {
    "colab": {
     "base_uri": "https://localhost:8080/"
    },
    "id": "P-hOIGJ-KOrC",
    "outputId": "c8e6996c-8b5a-4e41-9a1d-e4b342a2a588"
   },
   "outputs": [],
   "source": [
    "fly_plane_total_cost= 5000\n",
    "people_flying = 29\n",
    "charges_per_ticket = 200\n",
    "total_dollar_made = people_flying * charges_per_ticket;\n",
    "total_profit_made = total_dollar_made - fly_plane_total_cost;\n",
    "print(\"total_dollar_made is :\",total_dollar_made)\n",
    "print(\"total_profit_made is :\",total_profit_made)"
   ]
  }
 ],
 "metadata": {
  "colab": {
   "provenance": []
  },
  "kernelspec": {
   "display_name": "Python 3 (ipykernel)",
   "language": "python",
   "name": "python3"
  },
  "language_info": {
   "codemirror_mode": {
    "name": "ipython",
    "version": 3
   },
   "file_extension": ".py",
   "mimetype": "text/x-python",
   "name": "python",
   "nbconvert_exporter": "python",
   "pygments_lexer": "ipython3",
   "version": "3.13.0"
  }
 },
 "nbformat": 4,
 "nbformat_minor": 4
}
