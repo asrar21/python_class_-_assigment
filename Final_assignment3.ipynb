{
 "cells": [
  {
   "cell_type": "code",
   "execution_count": 6,
   "id": "589723ce-985e-4a50-8690-056b4c1acbbd",
   "metadata": {},
   "outputs": [
    {
     "name": "stdin",
     "output_type": "stream",
     "text": [
      "Enter a Number  55\n"
     ]
    },
    {
     "name": "stdout",
     "output_type": "stream",
     "text": [
      "number is not divisible by 3 1\n"
     ]
    }
   ],
   "source": [
    "# Q1. Write a program to check whether the given input number is divisible by 3 or else\n",
    "# show a message “Number is not divisible by 3”.\n",
    "num = int(input(\"Enter a Number \" ))\n",
    "if num%3 == 0:\n",
    "    print(\"number is divisible by 3\",num%3)\n",
    "else:\n",
    "    print(\"number is not divisible by 3\",num%3)"
   ]
  },
  {
   "cell_type": "code",
   "execution_count": 7,
   "id": "e0eaefd0-c798-4a82-8054-6b7c73610a6c",
   "metadata": {},
   "outputs": [
    {
     "name": "stdin",
     "output_type": "stream",
     "text": [
      "Enter a Number  2\n"
     ]
    },
    {
     "name": "stdout",
     "output_type": "stream",
     "text": [
      "number is even\n"
     ]
    }
   ],
   "source": [
    "# Q2. Write a program that checks whether the given input is an even number or an\n",
    "# odd number.\n",
    "num = int(input(\"Enter a Number \" ))\n",
    "if num%2 == 0:\n",
    "    print(\"number is even\")\n",
    "else:\n",
    "    print(\"number is odd\")"
   ]
  },
  {
   "cell_type": "code",
   "execution_count": 8,
   "id": "8dbeae13-63d9-4a64-a17f-d172a9b123b7",
   "metadata": {},
   "outputs": [
    {
     "name": "stdin",
     "output_type": "stream",
     "text": [
      "Enter Your age  20\n"
     ]
    },
    {
     "name": "stdout",
     "output_type": "stream",
     "text": [
      "Old enough\n"
     ]
    }
   ],
   "source": [
    "# Q3. Write an if/else statement with the following condition:\n",
    "# If the variable age is greater than 18, output \"Old enough\", otherwise output \"Too\n",
    "# young\".\n",
    "age = int(input(\"Enter Your age \"))\n",
    "if age >= 18:\n",
    "    print(\"Old enough\")\n",
    "else:\n",
    "    print(\"Too young\")"
   ]
  },
  {
   "cell_type": "code",
   "execution_count": 9,
   "id": "dba1143c-e9cc-4a5e-859e-7fb016db9f11",
   "metadata": {},
   "outputs": [
    {
     "name": "stdin",
     "output_type": "stream",
     "text": [
      "Enter your name  asrar\n"
     ]
    },
    {
     "name": "stdout",
     "output_type": "stream",
     "text": [
      "Welcome your and mine name is same greetings\n"
     ]
    }
   ],
   "source": [
    "# Q4. Write a program that prompts the user for their name, and then displays a special\n",
    "# greeting to that person if their name is the same as yours. If the name entered by the\n",
    "# user is anything other than your name, your code should not produce any output.\n",
    "\n",
    "my_name = 'asrar'\n",
    "name = input(\"Enter your name \")\n",
    "if my_name == name:\n",
    "    print(\"Welcome your and mine name is same greetings\")\n",
    "else:\n",
    "    print(\"greeting \",name,\" you are welcome\")"
   ]
  },
  {
   "cell_type": "code",
   "execution_count": 10,
   "id": "f5bd3ed8-547e-4c55-ab37-b1d2549ab2dc",
   "metadata": {},
   "outputs": [
    {
     "name": "stdin",
     "output_type": "stream",
     "text": [
      "Enter year  2024\n"
     ]
    },
    {
     "name": "stdout",
     "output_type": "stream",
     "text": [
      "this  2024  is leap year\n"
     ]
    }
   ],
   "source": [
    "# Q5. Write a program that takes a calendar year in YYYY format in a variable. Check &\n",
    "# notify the user whether it is a leap year or not.\n",
    "year = int(input(\"Enter year \"))\n",
    "if (year % 4 == 0 and (year % 100 != 0 or year % 400 == 0)):\n",
    "    print(\"this \",year,\" is leap year\")\n",
    "else:\n",
    "    print(\"year is not a leap year\")"
   ]
  },
  {
   "cell_type": "code",
   "execution_count": 14,
   "id": "4a5f79e8-9a78-4457-a6a7-ea719df315ac",
   "metadata": {},
   "outputs": [
    {
     "name": "stdin",
     "output_type": "stream",
     "text": [
      "Enter Num 1  45\n",
      "Enter Num 2  45\n"
     ]
    },
    {
     "name": "stdout",
     "output_type": "stream",
     "text": [
      "number is same\n"
     ]
    }
   ],
   "source": [
    "# Q6. Write a JavaScript program that accept two integers and display the larger. Also\n",
    "# show if the two integers are equal.\n",
    "\n",
    "num1 = int(input(\"Enter Num 1 \"))\n",
    "num2 = int(input(\"Enter Num 2 \"))\n",
    "if num1 > num2:\n",
    "    print(\"num1 and is greater\")\n",
    "elif num2 > num1:\n",
    "     print(\"num2 and is greater\")\n",
    "else:\n",
    "    print(\"number is same\")\n",
    "\n"
   ]
  },
  {
   "cell_type": "code",
   "execution_count": 17,
   "id": "e7b3a344-140e-41e1-875c-91acccf44d4a",
   "metadata": {},
   "outputs": [
    {
     "name": "stdin",
     "output_type": "stream",
     "text": [
      "Enter a  number  -34\n"
     ]
    },
    {
     "name": "stdout",
     "output_type": "stream",
     "text": [
      "Negative Number\n"
     ]
    }
   ],
   "source": [
    "# Q7. Write a program that takes input a number from user & state whether the\n",
    "# number is positive, negative or zero.\n",
    "number = input(\"Enter a  number \")\n",
    "if number.replace('-','').replace('.','').replace(',','').isdigit():\n",
    "    if int(number) >= 0:\n",
    "        print(\"Positive Number\")\n",
    "    elif int(number) < 0 :\n",
    "        print(\"Negative Number\")\n",
    "    else:\n",
    "        print(\"Number is zero\")\n",
    "        \n",
    "else:\n",
    "    print(\"Invalid Number\")\n"
   ]
  },
  {
   "cell_type": "code",
   "execution_count": 23,
   "id": "5b1d2b92-0b1a-4d83-ab88-13080a0911ae",
   "metadata": {},
   "outputs": [
    {
     "name": "stdin",
     "output_type": "stream",
     "text": [
      "Enter a word: ksdf\n"
     ]
    },
    {
     "name": "stdout",
     "output_type": "stream",
     "text": [
      "vowel\n"
     ]
    }
   ],
   "source": [
    "# Q8. Write a program that takes a character (i.e. string of length 1) and returns true if\n",
    "# it is a vowel, false otherwise.\n",
    "original = input('Enter a word:')\n",
    "word = original.lower()\n",
    "first = word[0]\n",
    "\n",
    "if len(original) > 0 and original.isalpha():\n",
    "    if first == \"a\" or \"e\" or \"i\" or \"o\" or \"u\":\n",
    "        print (\"vowel\")\n",
    "    else:\n",
    "        print(\"consonant\")\n",
    "else:\n",
    "    print(\"empty\")"
   ]
  },
  {
   "cell_type": "code",
   "execution_count": null,
   "id": "a5e6a5c9-28d9-4136-bdc8-49ae78efc1e5",
   "metadata": {},
   "outputs": [],
   "source": [
    "# Q9. Use a conditional (ternary) operator for this exercise:\n",
    "# If the variable age is a value below 18, the value of the variable voteable should be\n",
    "# \"Too young\", otherwise the value of voteable should be \"Old enough\".\n",
    "\n",
    "age = int(input(\"Enter Your age \"))\n",
    "if age >= 18:\n",
    "    print(\"Old enough\")\n",
    "else:\n",
    "    print(\"Too young\")"
   ]
  },
  {
   "cell_type": "code",
   "execution_count": null,
   "id": "daf3da42-524b-4f94-b204-6d5a325ef078",
   "metadata": {},
   "outputs": [],
   "source": [
    "# Q10 . \n",
    "username = input(\"Enter your username  \")\n",
    "\n",
    "Username = 'ahmed@gmail.com'\n",
    "Password = 'ahmed@321'\n",
    "if '@' in username:\n",
    "  password = input(\"Enter your password \")\n",
    "  print(\"Correct email\")\n",
    "  if username == Username and password == Password:\n",
    "    print(\"Welcome to dashboard\")\n",
    "  elif username == Username and password != Password:\n",
    "    print(\"password is wrong\")\n",
    "    password = input(\"reEnter your password  \")\n",
    "    if Password == password:\n",
    "      print(\"Welcome to dashboard\")\n",
    "    else:\n",
    "        print(\"your Account is blocked please try after few hours\")\n",
    "else:\n",
    "  print(\"Invalid Credentials\")\n"
   ]
  },
  {
   "cell_type": "code",
   "execution_count": null,
   "id": "3562f46d-3ea6-4b4d-8151-67d03f0c411e",
   "metadata": {},
   "outputs": [
    {
     "name": "stdin",
     "output_type": "stream",
     "text": [
      "Enter Time in 24 hours Clock  1700\n"
     ]
    },
    {
     "name": "stdout",
     "output_type": "stream",
     "text": [
      "Good Morning\n"
     ]
    },
    {
     "name": "stdin",
     "output_type": "stream",
     "text": [
      "Enter Time in 24 hours Clock  1200\n"
     ]
    },
    {
     "name": "stdout",
     "output_type": "stream",
     "text": [
      "Good Afternoon\n"
     ]
    },
    {
     "name": "stdin",
     "output_type": "stream",
     "text": [
      "Enter Time in 24 hours Clock  1100\n"
     ]
    },
    {
     "name": "stdout",
     "output_type": "stream",
     "text": [
      "Good Morning\n"
     ]
    },
    {
     "name": "stdin",
     "output_type": "stream",
     "text": [
      "Enter Time in 24 hours Clock  2200\n"
     ]
    },
    {
     "name": "stdout",
     "output_type": "stream",
     "text": [
      "Good Night\n"
     ]
    }
   ],
   "source": [
    "# Q11\n",
    "while True:\n",
    "    time = int(input(\"Enter Time in 24 hours Clock \"))\n",
    "    if time >= 0000 and time < 1200 :\n",
    "        print(\"Good Morning\")\n",
    "    elif time >= 1200 and time < 1700:\n",
    "        print(\"Good Afternoon\")\n",
    "    elif time >= 1700 and time < 2100:\n",
    "        print(\"Good Morning\")\n",
    "    elif time >=2100 and time <= 2359:\n",
    "        print(\"Good Night\")\n",
    "\n",
    "else:\n",
    "    print(\"Invlaid Number\")\n",
    "    \n"
   ]
  },
  {
   "cell_type": "code",
   "execution_count": null,
   "id": "39ff7081-d64c-4ac8-8707-95f8efcf2847",
   "metadata": {},
   "outputs": [],
   "source": []
  }
 ],
 "metadata": {
  "kernelspec": {
   "display_name": "Python 3 (ipykernel)",
   "language": "python",
   "name": "python3"
  },
  "language_info": {
   "codemirror_mode": {
    "name": "ipython",
    "version": 3
   },
   "file_extension": ".py",
   "mimetype": "text/x-python",
   "name": "python",
   "nbconvert_exporter": "python",
   "pygments_lexer": "ipython3",
   "version": "3.13.0"
  }
 },
 "nbformat": 4,
 "nbformat_minor": 5
}
