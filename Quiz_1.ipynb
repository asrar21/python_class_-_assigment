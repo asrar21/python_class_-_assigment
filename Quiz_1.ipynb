{
  "nbformat": 4,
  "nbformat_minor": 0,
  "metadata": {
    "colab": {
      "provenance": []
    },
    "kernelspec": {
      "name": "python3",
      "display_name": "Python 3"
    },
    "language_info": {
      "name": "python"
    }
  },
  "cells": [
    {
      "cell_type": "markdown",
      "source": [
        "1. What is the output of the following code?\n",
        "my_list = [1, 2, 3, 4]\n",
        "my_list.append([5, 6])\n",
        "print(len(my_list))\n",
        "a) 4\n",
        "b) 5\n",
        "c) 6\n",
        "d) [1, 2, 3, 4, 5, 6]"
      ],
      "metadata": {
        "id": "Wv7DBkIhd5TC"
      }
    },
    {
      "cell_type": "markdown",
      "source": [
        "ANSwer: C) 6"
      ],
      "metadata": {
        "id": "cFcB0p8Qd9pa"
      }
    },
    {
      "cell_type": "markdown",
      "source": [
        "Which of the following statements about tuples is true?\n",
        "a) Tuples are mutable.\n",
        "b) Tuples can contain duplicate elements.\n",
        "c) Tuples cannot be nested.\n",
        "d) Tuples are created using square brackets."
      ],
      "metadata": {
        "id": "2fvYphPCeGn9"
      }
    },
    {
      "cell_type": "markdown",
      "source": [
        "ASnwer:(a) and (c)"
      ],
      "metadata": {
        "id": "r88IK7gbeJgX"
      }
    },
    {
      "cell_type": "markdown",
      "source": [
        "What will be the output of the following code?\n",
        "my_set = {1, 2, 2, 3, 4}\n",
        "print(len(my_set))\n",
        "a) 3\n",
        "b) 4\n",
        "c) 5\n",
        "d) 6"
      ],
      "metadata": {
        "id": "-AeurglMeU3G"
      }
    },
    {
      "cell_type": "markdown",
      "source": [
        "Asnwer : (a)"
      ],
      "metadata": {
        "id": "ejsjQv-peXSB"
      }
    },
    {
      "cell_type": "markdown",
      "source": [
        "What will be the result of the following code snippet?\n",
        "x = \"Hello\"\n",
        "y = x\n",
        "y += \" World\"\n",
        "print(x)\n",
        "a) Hello World\n",
        "b) Hello\n",
        "c) Hello World World\n",
        "d) None of the above"
      ],
      "metadata": {
        "id": "Tto1Jm8qef5z"
      }
    },
    {
      "cell_type": "markdown",
      "source": [
        "Answer: (b)"
      ],
      "metadata": {
        "id": "mvgykEQDeiok"
      }
    },
    {
      "cell_type": "markdown",
      "source": [
        "Which of the following statements correctly distinguishes between a list and a tuple?\n",
        "a) Lists are faster than tuples.\n",
        "b) Lists are immutable, while tuples are mutable.\n",
        "c) Tuples can be changed after creation, but lists cannot.\n",
        "d) Lists are defined using parentheses, while tuples use square brackets."
      ],
      "metadata": {
        "id": "NkHjeTAUe-cH"
      }
    },
    {
      "cell_type": "markdown",
      "source": [
        "Answer:(a)"
      ],
      "metadata": {
        "id": "4oyQqAS7fB1c"
      }
    },
    {
      "cell_type": "markdown",
      "source": [
        "What will be the result of the following code?\n",
        "set_a = {1, 2, 3}, set_b = {3, 4, 5}\n",
        "result = set_a.union(set_b)\n",
        "print(result)\n",
        "a) {1, 2, 3}\n",
        "b) {3, 4, 5}\n",
        "c) {1, 2, 3, 4, 5}\n",
        "d) {3}"
      ],
      "metadata": {
        "id": "B_nTOdNEfWhT"
      }
    },
    {
      "cell_type": "markdown",
      "source": [
        "Answer: (c)"
      ],
      "metadata": {
        "id": "0_nHVU1gfZYQ"
      }
    },
    {
      "cell_type": "markdown",
      "source": [
        "7- Differentiate between Mutable and Immutable data type."
      ],
      "metadata": {
        "id": "tWuHDlwAfg6a"
      }
    },
    {
      "cell_type": "markdown",
      "source": [
        "Answer: Mutable: is Datatypes that can be changeable.\n",
        "        Immutable: is a Datatype that cannot be changeable"
      ],
      "metadata": {
        "id": "QgGQ07dIfk_m"
      }
    },
    {
      "cell_type": "markdown",
      "source": [
        "8 -The following is a list of 10 students ages:\n",
        "ages = [19, 22, 19, 24, 20, 25, 26, 24, 25, 24] 27.\n",
        " Sort the list and find the min and max age\n",
        " Add the min age and the max age again to the list\n",
        " Find the median age (one middle item or two middle items divided by two\n",
        " Find the average age (sum of all items divided by their number)\n",
        " Find the range of the ages (max minus min)"
      ],
      "metadata": {
        "id": "XUZHAPy6f8ae"
      }
    },
    {
      "cell_type": "code",
      "source": [
        "ages = [19, 22, 19, 24, 20, 25, 26, 24, 25, 24]\n",
        "# list sorting\n",
        "ages.sort()\n",
        "print(ages)\n",
        "# min and max in the age list\n",
        "print(\"min\",min(ages))\n",
        "print(\"max\",max(ages))\n",
        "# adding min and max again to the list\n",
        "min_item = min(ages)\n",
        "max_item = max(ages)\n",
        "ages.append(min_item)\n",
        "ages.append(max_item)\n",
        "print(\"added min and maximum\",ages)\n",
        "# finding median\n",
        "middle_index = len(ages) / 2\n",
        "middle_item = ages[int(middle_index)]\n",
        "print(\"median is\",middle_item/2)\n",
        "# finding average age\n",
        "sum_of_all_item= sum(ages)\n",
        "length_of_ages = len(ages)\n",
        "print(\"average is\",sum_of_all_item/length_of_ages)\n",
        "# finding range\n",
        "print(\"range is\",max_item - min_item)\n"
      ],
      "metadata": {
        "colab": {
          "base_uri": "https://localhost:8080/"
        },
        "id": "UDYs6Ypbf_O9",
        "outputId": "4ccaa0a4-15ff-45c4-b63c-622037eed610"
      },
      "execution_count": 7,
      "outputs": [
        {
          "output_type": "stream",
          "name": "stdout",
          "text": [
            "[19, 19, 20, 22, 24, 24, 24, 25, 25, 26]\n",
            "min 19\n",
            "max 26\n",
            "added min and maximum [19, 19, 20, 22, 24, 24, 24, 25, 25, 26, 19, 26]\n",
            "median is 12.0\n",
            "average is 22.75\n",
            "range is 7\n"
          ]
        }
      ]
    },
    {
      "cell_type": "markdown",
      "source": [
        "9- 1. Create an empty tuple\n",
        "2. Create a tuple containing names of your sisters and your brothers (imaginary siblings are fine)\n",
        "3. Join brothers and sisters tuples and assign it to siblings\n",
        "4. How many siblings do you have?\n",
        "5. Modify the siblings tuple and add the name of your father and mother and assign it to\n",
        "family_members.\n",
        "6. Unpack siblings and parents from family_members"
      ],
      "metadata": {
        "id": "tiHwbP3MiDq1"
      }
    },
    {
      "cell_type": "code",
      "source": [
        "# Empty tuple\n",
        "tup = ()\n",
        "# sisters and brothers tuple\n",
        "brothers = ('faraz','shaheen')\n",
        "sisters = ('hanaia','vania')\n",
        "siblings = brothers + sisters\n",
        "print(\"joined brothers and sisters\",siblings)\n",
        "# how many siblings\n",
        "print(\"number of brothers and sisters\",len(siblings))\n",
        "# modifying siblings tuple\n",
        "parents = ('ahmed', 'mania')\n",
        "family_members = parents + siblings\n",
        "print(\"modified tup of family members\",family_members)\n",
        "# unpacking of tup\n",
        "father,mother,*siblings = family_members\n",
        "print(\"unpacked father\",father)\n",
        "print(\"unpacked mother\",mother)\n",
        "print(\"unpacked siblings\",siblings)\n"
      ],
      "metadata": {
        "colab": {
          "base_uri": "https://localhost:8080/"
        },
        "id": "B6k7i6AEiFho",
        "outputId": "7c5a7519-5e52-4972-fa2b-5d1a7a138ea7"
      },
      "execution_count": 12,
      "outputs": [
        {
          "output_type": "stream",
          "name": "stdout",
          "text": [
            "joined brothers and sisters ('faraz', 'shaheen', 'hanaia', 'vania')\n",
            "number of brothers and sisters 4\n",
            "modified tup of family members ('ahmed', 'mania', 'faraz', 'shaheen', 'hanaia', 'vania')\n",
            "unpacked father ahmed\n",
            "unpacked mother mania\n",
            "unpacked siblings ['faraz', 'shaheen', 'hanaia', 'vania']\n"
          ]
        }
      ]
    }
  ]
}